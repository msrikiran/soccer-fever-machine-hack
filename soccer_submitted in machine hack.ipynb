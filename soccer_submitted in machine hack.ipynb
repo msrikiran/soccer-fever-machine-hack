{
 "cells": [
  {
   "cell_type": "code",
   "execution_count": 1,
   "metadata": {},
   "outputs": [],
   "source": [
    "import numpy as np\n",
    "import pandas as pd\n",
    "from sklearn.model_selection import train_test_split # train_test\n",
    "from sklearn.preprocessing import StandardScaler\n",
    "from sklearn.linear_model import LogisticRegression,PassiveAggressiveClassifier,RidgeClassifier,SGDClassifier\n",
    "from sklearn.neighbors import KNeighborsClassifier,RadiusNeighborsClassifier\n",
    "from sklearn.tree import DecisionTreeClassifier, ExtraTreeClassifier\n",
    "from sklearn.svm import LinearSVC, SVC,NuSVC\n",
    "from sklearn.neural_network import MLPClassifier\n",
    "from sklearn.ensemble import RandomForestClassifier, GradientBoostingClassifier\n",
    "from sklearn.ensemble import AdaBoostClassifier\n",
    "from sklearn.naive_bayes import GaussianNB\n",
    "from sklearn.model_selection import GridSearchCV\n",
    "from sklearn.model_selection import cross_validate\n",
    "from time import perf_counter\n",
    "import matplotlib.pyplot as plt\n",
    "import seaborn as sns\n",
    "from sklearn.model_selection import train_test_split,cross_val_predict\n",
    "from sklearn.metrics import log_loss\n",
    "\n",
    "from sklearn.ensemble import BaggingClassifier\n",
    "\n",
    "from xgboost import XGBClassifier\n",
    "from lightgbm import LGBMClassifier\n",
    "from IPython.display import Markdown, display\n",
    "\n",
    "def printmd(string):\n",
    "    # Print with Markdowns    \n",
    "    display(Markdown(string))\n",
    "\n",
    "import warnings\n",
    "warnings.filterwarnings(action='ignore')"
   ]
  },
  {
   "cell_type": "markdown",
   "metadata": {},
   "source": [
    "# 1. Data Description & Visualization"
   ]
  },
  {
   "cell_type": "code",
   "execution_count": 2,
   "metadata": {},
   "outputs": [],
   "source": [
    "train = pd.read_csv(\"train.csv\")\n",
    "test = pd.read_csv('test.csv')\n",
    "sub_file = pd.read_csv(\"submission.csv\")"
   ]
  },
  {
   "cell_type": "code",
   "execution_count": 3,
   "metadata": {},
   "outputs": [
    {
     "data": {
      "text/html": [
       "<div>\n",
       "<style scoped>\n",
       "    .dataframe tbody tr th:only-of-type {\n",
       "        vertical-align: middle;\n",
       "    }\n",
       "\n",
       "    .dataframe tbody tr th {\n",
       "        vertical-align: top;\n",
       "    }\n",
       "\n",
       "    .dataframe thead th {\n",
       "        text-align: right;\n",
       "    }\n",
       "</style>\n",
       "<table border=\"1\" class=\"dataframe\">\n",
       "  <thead>\n",
       "    <tr style=\"text-align: right;\">\n",
       "      <th></th>\n",
       "      <th>season</th>\n",
       "      <th>date</th>\n",
       "      <th>league_id</th>\n",
       "      <th>league</th>\n",
       "      <th>Team 1</th>\n",
       "      <th>Team2</th>\n",
       "      <th>SPI1</th>\n",
       "      <th>SPI2</th>\n",
       "      <th>proj_score1</th>\n",
       "      <th>proj_score2</th>\n",
       "      <th>...</th>\n",
       "      <th>importance2</th>\n",
       "      <th>score1</th>\n",
       "      <th>score2</th>\n",
       "      <th>xg1</th>\n",
       "      <th>xg2</th>\n",
       "      <th>nsxg1</th>\n",
       "      <th>nsxg2</th>\n",
       "      <th>adj_score1</th>\n",
       "      <th>adj_score2</th>\n",
       "      <th>Outcome</th>\n",
       "    </tr>\n",
       "  </thead>\n",
       "  <tbody>\n",
       "    <tr>\n",
       "      <th>0</th>\n",
       "      <td>2019</td>\n",
       "      <td>01/03/19</td>\n",
       "      <td>1979</td>\n",
       "      <td>Chinese Super League</td>\n",
       "      <td>Shandong Luneng</td>\n",
       "      <td>Guizhou Renhe</td>\n",
       "      <td>48.22</td>\n",
       "      <td>37.83</td>\n",
       "      <td>1.75</td>\n",
       "      <td>0.84</td>\n",
       "      <td>...</td>\n",
       "      <td>22.1</td>\n",
       "      <td>1.0</td>\n",
       "      <td>0.0</td>\n",
       "      <td>1.39</td>\n",
       "      <td>0.26</td>\n",
       "      <td>2.05</td>\n",
       "      <td>0.54</td>\n",
       "      <td>1.05</td>\n",
       "      <td>0.00</td>\n",
       "      <td>1</td>\n",
       "    </tr>\n",
       "    <tr>\n",
       "      <th>1</th>\n",
       "      <td>2019</td>\n",
       "      <td>01/03/19</td>\n",
       "      <td>1979</td>\n",
       "      <td>Chinese Super League</td>\n",
       "      <td>Shanghai Greenland</td>\n",
       "      <td>Shanghai SIPG</td>\n",
       "      <td>39.81</td>\n",
       "      <td>60.08</td>\n",
       "      <td>1.22</td>\n",
       "      <td>1.89</td>\n",
       "      <td>...</td>\n",
       "      <td>63.4</td>\n",
       "      <td>0.0</td>\n",
       "      <td>4.0</td>\n",
       "      <td>0.57</td>\n",
       "      <td>2.76</td>\n",
       "      <td>0.80</td>\n",
       "      <td>1.50</td>\n",
       "      <td>0.00</td>\n",
       "      <td>3.26</td>\n",
       "      <td>0</td>\n",
       "    </tr>\n",
       "  </tbody>\n",
       "</table>\n",
       "<p>2 rows × 21 columns</p>\n",
       "</div>"
      ],
      "text/plain": [
       "   season      date  league_id                league              Team 1  \\\n",
       "0    2019  01/03/19       1979  Chinese Super League     Shandong Luneng   \n",
       "1    2019  01/03/19       1979  Chinese Super League  Shanghai Greenland   \n",
       "\n",
       "           Team2   SPI1   SPI2  proj_score1  proj_score2  ...  importance2  \\\n",
       "0  Guizhou Renhe  48.22  37.83         1.75         0.84  ...         22.1   \n",
       "1  Shanghai SIPG  39.81  60.08         1.22         1.89  ...         63.4   \n",
       "\n",
       "   score1  score2   xg1   xg2  nsxg1  nsxg2  adj_score1  adj_score2  Outcome  \n",
       "0     1.0     0.0  1.39  0.26   2.05   0.54        1.05        0.00        1  \n",
       "1     0.0     4.0  0.57  2.76   0.80   1.50        0.00        3.26        0  \n",
       "\n",
       "[2 rows x 21 columns]"
      ]
     },
     "execution_count": 3,
     "metadata": {},
     "output_type": "execute_result"
    }
   ],
   "source": [
    "train.head(2)"
   ]
  },
  {
   "cell_type": "code",
   "execution_count": 4,
   "metadata": {},
   "outputs": [
    {
     "data": {
      "text/html": [
       "<div>\n",
       "<style scoped>\n",
       "    .dataframe tbody tr th:only-of-type {\n",
       "        vertical-align: middle;\n",
       "    }\n",
       "\n",
       "    .dataframe tbody tr th {\n",
       "        vertical-align: top;\n",
       "    }\n",
       "\n",
       "    .dataframe thead th {\n",
       "        text-align: right;\n",
       "    }\n",
       "</style>\n",
       "<table border=\"1\" class=\"dataframe\">\n",
       "  <thead>\n",
       "    <tr style=\"text-align: right;\">\n",
       "      <th></th>\n",
       "      <th>season</th>\n",
       "      <th>date</th>\n",
       "      <th>league_id</th>\n",
       "      <th>league</th>\n",
       "      <th>Team 1</th>\n",
       "      <th>Team2</th>\n",
       "      <th>SPI1</th>\n",
       "      <th>SPI2</th>\n",
       "      <th>proj_score1</th>\n",
       "      <th>proj_score2</th>\n",
       "      <th>importance1</th>\n",
       "      <th>importance2</th>\n",
       "      <th>score1</th>\n",
       "      <th>score2</th>\n",
       "      <th>xg1</th>\n",
       "      <th>xg2</th>\n",
       "      <th>nsxg1</th>\n",
       "      <th>nsxg2</th>\n",
       "      <th>adj_score1</th>\n",
       "      <th>adj_score2</th>\n",
       "    </tr>\n",
       "  </thead>\n",
       "  <tbody>\n",
       "    <tr>\n",
       "      <th>0</th>\n",
       "      <td>2021</td>\n",
       "      <td>14/12/21</td>\n",
       "      <td>2411</td>\n",
       "      <td>BPL</td>\n",
       "      <td>Arsenal</td>\n",
       "      <td>West Ham United</td>\n",
       "      <td>79.65</td>\n",
       "      <td>74.06</td>\n",
       "      <td>1.67</td>\n",
       "      <td>1.19</td>\n",
       "      <td>NaN</td>\n",
       "      <td>NaN</td>\n",
       "      <td>NaN</td>\n",
       "      <td>NaN</td>\n",
       "      <td>NaN</td>\n",
       "      <td>NaN</td>\n",
       "      <td>NaN</td>\n",
       "      <td>NaN</td>\n",
       "      <td>NaN</td>\n",
       "      <td>NaN</td>\n",
       "    </tr>\n",
       "    <tr>\n",
       "      <th>1</th>\n",
       "      <td>2021</td>\n",
       "      <td>14/12/21</td>\n",
       "      <td>2411</td>\n",
       "      <td>BPL</td>\n",
       "      <td>Brighton and Hove Albion</td>\n",
       "      <td>Wolverhampton</td>\n",
       "      <td>74.19</td>\n",
       "      <td>71.14</td>\n",
       "      <td>1.35</td>\n",
       "      <td>0.98</td>\n",
       "      <td>NaN</td>\n",
       "      <td>NaN</td>\n",
       "      <td>NaN</td>\n",
       "      <td>NaN</td>\n",
       "      <td>NaN</td>\n",
       "      <td>NaN</td>\n",
       "      <td>NaN</td>\n",
       "      <td>NaN</td>\n",
       "      <td>NaN</td>\n",
       "      <td>NaN</td>\n",
       "    </tr>\n",
       "  </tbody>\n",
       "</table>\n",
       "</div>"
      ],
      "text/plain": [
       "   season      date  league_id league                    Team 1  \\\n",
       "0    2021  14/12/21       2411    BPL                   Arsenal   \n",
       "1    2021  14/12/21       2411    BPL  Brighton and Hove Albion   \n",
       "\n",
       "             Team2   SPI1   SPI2  proj_score1  proj_score2  importance1  \\\n",
       "0  West Ham United  79.65  74.06         1.67         1.19          NaN   \n",
       "1    Wolverhampton  74.19  71.14         1.35         0.98          NaN   \n",
       "\n",
       "   importance2  score1  score2  xg1  xg2  nsxg1  nsxg2  adj_score1  adj_score2  \n",
       "0          NaN     NaN     NaN  NaN  NaN    NaN    NaN         NaN         NaN  \n",
       "1          NaN     NaN     NaN  NaN  NaN    NaN    NaN         NaN         NaN  "
      ]
     },
     "execution_count": 4,
     "metadata": {},
     "output_type": "execute_result"
    }
   ],
   "source": [
    "test.head(2)"
   ]
  },
  {
   "cell_type": "code",
   "execution_count": 5,
   "metadata": {},
   "outputs": [
    {
     "data": {
      "text/plain": [
       "((7443, 21), (4008, 20), (4008, 1))"
      ]
     },
     "execution_count": 5,
     "metadata": {},
     "output_type": "execute_result"
    }
   ],
   "source": [
    "train.shape, test.shape, sub_file.shape"
   ]
  },
  {
   "cell_type": "code",
   "execution_count": 6,
   "metadata": {},
   "outputs": [
    {
     "data": {
      "text/plain": [
       "1    5070\n",
       "0    2373\n",
       "Name: Outcome, dtype: int64"
      ]
     },
     "execution_count": 6,
     "metadata": {},
     "output_type": "execute_result"
    }
   ],
   "source": [
    "train.Outcome.value_counts()"
   ]
  },
  {
   "cell_type": "code",
   "execution_count": 7,
   "metadata": {},
   "outputs": [
    {
     "data": {
      "text/plain": [
       "season            3\n",
       "date            424\n",
       "league_id        39\n",
       "league           39\n",
       "Team 1          657\n",
       "Team2           657\n",
       "SPI1           2516\n",
       "SPI2           2514\n",
       "proj_score1     248\n",
       "proj_score2     242\n",
       "importance1     701\n",
       "importance2     700\n",
       "score1            8\n",
       "score2            7\n",
       "xg1             333\n",
       "xg2             305\n",
       "nsxg1           285\n",
       "nsxg2           253\n",
       "adj_score1      149\n",
       "adj_score2      104\n",
       "Outcome           2\n",
       "dtype: int64"
      ]
     },
     "execution_count": 7,
     "metadata": {},
     "output_type": "execute_result"
    }
   ],
   "source": [
    "train.nunique()"
   ]
  },
  {
   "cell_type": "code",
   "execution_count": 8,
   "metadata": {},
   "outputs": [
    {
     "data": {
      "text/plain": [
       "season           1\n",
       "date           115\n",
       "league_id       24\n",
       "league          24\n",
       "Team 1         426\n",
       "Team2          426\n",
       "SPI1           412\n",
       "SPI2           412\n",
       "proj_score1    218\n",
       "proj_score2    215\n",
       "importance1      0\n",
       "importance2      0\n",
       "score1           0\n",
       "score2           0\n",
       "xg1              0\n",
       "xg2              0\n",
       "nsxg1            0\n",
       "nsxg2            0\n",
       "adj_score1       0\n",
       "adj_score2       0\n",
       "dtype: int64"
      ]
     },
     "execution_count": 8,
     "metadata": {},
     "output_type": "execute_result"
    }
   ],
   "source": [
    "test.nunique()"
   ]
  },
  {
   "cell_type": "code",
   "execution_count": 9,
   "metadata": {},
   "outputs": [
    {
     "data": {
      "text/plain": [
       "Index(['season', 'date', 'league_id', 'league', 'Team 1', 'Team2', 'SPI1',\n",
       "       'SPI2', 'proj_score1', 'proj_score2', 'importance1', 'importance2',\n",
       "       'score1', 'score2', 'xg1', 'xg2', 'nsxg1', 'nsxg2', 'adj_score1',\n",
       "       'adj_score2', 'Outcome'],\n",
       "      dtype='object')"
      ]
     },
     "execution_count": 9,
     "metadata": {},
     "output_type": "execute_result"
    }
   ],
   "source": [
    "train.columns"
   ]
  },
  {
   "cell_type": "code",
   "execution_count": 10,
   "metadata": {},
   "outputs": [],
   "source": [
    "train.rename(columns={'Team 1':'Team1'},inplace=True)\n",
    "test.rename(columns={'Team 1':'Team1'},inplace=True)\n"
   ]
  },
  {
   "cell_type": "markdown",
   "metadata": {},
   "source": [
    "## Features"
   ]
  },
  {
   "cell_type": "code",
   "execution_count": 11,
   "metadata": {},
   "outputs": [
    {
     "data": {
      "text/plain": [
       "7"
      ]
     },
     "execution_count": 11,
     "metadata": {},
     "output_type": "execute_result"
    }
   ],
   "source": [
    "features = list(set(train.columns)-set(['season','importance1', 'importance2',\n",
    "       'score1', 'score2', 'xg1', 'xg2', 'nsxg1', 'nsxg2', 'adj_score1',\n",
    "       'adj_score2', 'Outcome','date','league']))\n",
    "target = 'Outcome'\n",
    "len(features)"
   ]
  },
  {
   "cell_type": "code",
   "execution_count": 12,
   "metadata": {},
   "outputs": [
    {
     "data": {
      "text/plain": [
       "['Team1', 'SPI1', 'proj_score1', 'SPI2', 'proj_score2', 'Team2', 'league_id']"
      ]
     },
     "execution_count": 12,
     "metadata": {},
     "output_type": "execute_result"
    }
   ],
   "source": [
    "features"
   ]
  },
  {
   "cell_type": "code",
   "execution_count": 13,
   "metadata": {},
   "outputs": [
    {
     "name": "stdout",
     "output_type": "stream",
     "text": [
      "<class 'pandas.core.frame.DataFrame'>\n",
      "RangeIndex: 7443 entries, 0 to 7442\n",
      "Data columns (total 7 columns):\n",
      "Team1          7443 non-null object\n",
      "SPI1           7443 non-null float64\n",
      "proj_score1    7443 non-null float64\n",
      "SPI2           7443 non-null float64\n",
      "proj_score2    7443 non-null float64\n",
      "Team2          7443 non-null object\n",
      "league_id      7443 non-null int64\n",
      "dtypes: float64(4), int64(1), object(2)\n",
      "memory usage: 407.2+ KB\n"
     ]
    }
   ],
   "source": [
    "train[features].info()"
   ]
  },
  {
   "cell_type": "code",
   "execution_count": 14,
   "metadata": {},
   "outputs": [],
   "source": [
    "from sklearn.preprocessing import LabelEncoder\n",
    "for col in features:\n",
    "    train.loc[:, col] = train[col].astype(str)\n",
    "    \n",
    "    lbl = LabelEncoder()\n",
    "    lbl.fit(train[col])\n",
    "\n",
    "    train.loc[:, col] = lbl.transform(train[col])\n",
    "    \n"
   ]
  },
  {
   "cell_type": "code",
   "execution_count": 15,
   "metadata": {},
   "outputs": [
    {
     "data": {
      "text/html": [
       "<div>\n",
       "<style scoped>\n",
       "    .dataframe tbody tr th:only-of-type {\n",
       "        vertical-align: middle;\n",
       "    }\n",
       "\n",
       "    .dataframe tbody tr th {\n",
       "        vertical-align: top;\n",
       "    }\n",
       "\n",
       "    .dataframe thead th {\n",
       "        text-align: right;\n",
       "    }\n",
       "</style>\n",
       "<table border=\"1\" class=\"dataframe\">\n",
       "  <thead>\n",
       "    <tr style=\"text-align: right;\">\n",
       "      <th></th>\n",
       "      <th>season</th>\n",
       "      <th>date</th>\n",
       "      <th>league_id</th>\n",
       "      <th>league</th>\n",
       "      <th>Team1</th>\n",
       "      <th>Team2</th>\n",
       "      <th>SPI1</th>\n",
       "      <th>SPI2</th>\n",
       "      <th>proj_score1</th>\n",
       "      <th>proj_score2</th>\n",
       "      <th>...</th>\n",
       "      <th>importance2</th>\n",
       "      <th>score1</th>\n",
       "      <th>score2</th>\n",
       "      <th>xg1</th>\n",
       "      <th>xg2</th>\n",
       "      <th>nsxg1</th>\n",
       "      <th>nsxg2</th>\n",
       "      <th>adj_score1</th>\n",
       "      <th>adj_score2</th>\n",
       "      <th>Outcome</th>\n",
       "    </tr>\n",
       "  </thead>\n",
       "  <tbody>\n",
       "    <tr>\n",
       "      <th>0</th>\n",
       "      <td>2019</td>\n",
       "      <td>01/03/19</td>\n",
       "      <td>26</td>\n",
       "      <td>Chinese Super League</td>\n",
       "      <td>531</td>\n",
       "      <td>262</td>\n",
       "      <td>1587</td>\n",
       "      <td>1104</td>\n",
       "      <td>125</td>\n",
       "      <td>52</td>\n",
       "      <td>...</td>\n",
       "      <td>22.1</td>\n",
       "      <td>1.0</td>\n",
       "      <td>0.0</td>\n",
       "      <td>1.39</td>\n",
       "      <td>0.26</td>\n",
       "      <td>2.05</td>\n",
       "      <td>0.54</td>\n",
       "      <td>1.05</td>\n",
       "      <td>0.00</td>\n",
       "      <td>1</td>\n",
       "    </tr>\n",
       "    <tr>\n",
       "      <th>1</th>\n",
       "      <td>2019</td>\n",
       "      <td>01/03/19</td>\n",
       "      <td>26</td>\n",
       "      <td>Chinese Super League</td>\n",
       "      <td>532</td>\n",
       "      <td>533</td>\n",
       "      <td>1229</td>\n",
       "      <td>2029</td>\n",
       "      <td>72</td>\n",
       "      <td>157</td>\n",
       "      <td>...</td>\n",
       "      <td>63.4</td>\n",
       "      <td>0.0</td>\n",
       "      <td>4.0</td>\n",
       "      <td>0.57</td>\n",
       "      <td>2.76</td>\n",
       "      <td>0.80</td>\n",
       "      <td>1.50</td>\n",
       "      <td>0.00</td>\n",
       "      <td>3.26</td>\n",
       "      <td>0</td>\n",
       "    </tr>\n",
       "    <tr>\n",
       "      <th>2</th>\n",
       "      <td>2019</td>\n",
       "      <td>01/03/19</td>\n",
       "      <td>26</td>\n",
       "      <td>Chinese Super League</td>\n",
       "      <td>258</td>\n",
       "      <td>589</td>\n",
       "      <td>2187</td>\n",
       "      <td>1231</td>\n",
       "      <td>208</td>\n",
       "      <td>30</td>\n",
       "      <td>...</td>\n",
       "      <td>28.8</td>\n",
       "      <td>3.0</td>\n",
       "      <td>0.0</td>\n",
       "      <td>0.49</td>\n",
       "      <td>0.45</td>\n",
       "      <td>1.05</td>\n",
       "      <td>0.75</td>\n",
       "      <td>3.15</td>\n",
       "      <td>0.00</td>\n",
       "      <td>1</td>\n",
       "    </tr>\n",
       "    <tr>\n",
       "      <th>3</th>\n",
       "      <td>2019</td>\n",
       "      <td>01/03/19</td>\n",
       "      <td>26</td>\n",
       "      <td>Chinese Super League</td>\n",
       "      <td>649</td>\n",
       "      <td>73</td>\n",
       "      <td>779</td>\n",
       "      <td>1850</td>\n",
       "      <td>60</td>\n",
       "      <td>147</td>\n",
       "      <td>...</td>\n",
       "      <td>58.9</td>\n",
       "      <td>0.0</td>\n",
       "      <td>1.0</td>\n",
       "      <td>1.12</td>\n",
       "      <td>0.97</td>\n",
       "      <td>1.51</td>\n",
       "      <td>0.94</td>\n",
       "      <td>0.00</td>\n",
       "      <td>1.05</td>\n",
       "      <td>0</td>\n",
       "    </tr>\n",
       "    <tr>\n",
       "      <th>4</th>\n",
       "      <td>2019</td>\n",
       "      <td>01/03/19</td>\n",
       "      <td>26</td>\n",
       "      <td>Chinese Super League</td>\n",
       "      <td>138</td>\n",
       "      <td>259</td>\n",
       "      <td>1125</td>\n",
       "      <td>1262</td>\n",
       "      <td>107</td>\n",
       "      <td>92</td>\n",
       "      <td>...</td>\n",
       "      <td>21.3</td>\n",
       "      <td>2.0</td>\n",
       "      <td>2.0</td>\n",
       "      <td>2.77</td>\n",
       "      <td>3.17</td>\n",
       "      <td>1.05</td>\n",
       "      <td>2.08</td>\n",
       "      <td>2.10</td>\n",
       "      <td>2.10</td>\n",
       "      <td>1</td>\n",
       "    </tr>\n",
       "  </tbody>\n",
       "</table>\n",
       "<p>5 rows × 21 columns</p>\n",
       "</div>"
      ],
      "text/plain": [
       "   season      date  league_id                league  Team1  Team2  SPI1  \\\n",
       "0    2019  01/03/19         26  Chinese Super League    531    262  1587   \n",
       "1    2019  01/03/19         26  Chinese Super League    532    533  1229   \n",
       "2    2019  01/03/19         26  Chinese Super League    258    589  2187   \n",
       "3    2019  01/03/19         26  Chinese Super League    649     73   779   \n",
       "4    2019  01/03/19         26  Chinese Super League    138    259  1125   \n",
       "\n",
       "   SPI2  proj_score1  proj_score2  ...  importance2  score1  score2   xg1  \\\n",
       "0  1104          125           52  ...         22.1     1.0     0.0  1.39   \n",
       "1  2029           72          157  ...         63.4     0.0     4.0  0.57   \n",
       "2  1231          208           30  ...         28.8     3.0     0.0  0.49   \n",
       "3  1850           60          147  ...         58.9     0.0     1.0  1.12   \n",
       "4  1262          107           92  ...         21.3     2.0     2.0  2.77   \n",
       "\n",
       "    xg2  nsxg1  nsxg2  adj_score1  adj_score2  Outcome  \n",
       "0  0.26   2.05   0.54        1.05        0.00        1  \n",
       "1  2.76   0.80   1.50        0.00        3.26        0  \n",
       "2  0.45   1.05   0.75        3.15        0.00        1  \n",
       "3  0.97   1.51   0.94        0.00        1.05        0  \n",
       "4  3.17   1.05   2.08        2.10        2.10        1  \n",
       "\n",
       "[5 rows x 21 columns]"
      ]
     },
     "execution_count": 15,
     "metadata": {},
     "output_type": "execute_result"
    }
   ],
   "source": [
    "train.head()"
   ]
  },
  {
   "cell_type": "code",
   "execution_count": 16,
   "metadata": {},
   "outputs": [
    {
     "name": "stdout",
     "output_type": "stream",
     "text": [
      "<class 'pandas.core.frame.DataFrame'>\n",
      "RangeIndex: 7443 entries, 0 to 7442\n",
      "Data columns (total 7 columns):\n",
      "Team1          7443 non-null int32\n",
      "SPI1           7443 non-null int32\n",
      "proj_score1    7443 non-null int32\n",
      "SPI2           7443 non-null int32\n",
      "proj_score2    7443 non-null int32\n",
      "Team2          7443 non-null int32\n",
      "league_id      7443 non-null int32\n",
      "dtypes: int32(7)\n",
      "memory usage: 203.6 KB\n"
     ]
    }
   ],
   "source": [
    "train[features].info()"
   ]
  },
  {
   "cell_type": "code",
   "execution_count": 17,
   "metadata": {},
   "outputs": [],
   "source": [
    "for col in features:\n",
    "    test.loc[:, col] = test[col].astype(str)\n",
    "    \n",
    "    lbl = LabelEncoder()\n",
    "    lbl.fit(test[col])\n",
    "\n",
    "    test.loc[:, col] = lbl.transform(test[col])"
   ]
  },
  {
   "cell_type": "code",
   "execution_count": 18,
   "metadata": {},
   "outputs": [
    {
     "name": "stdout",
     "output_type": "stream",
     "text": [
      "<class 'pandas.core.frame.DataFrame'>\n",
      "RangeIndex: 4008 entries, 0 to 4007\n",
      "Data columns (total 7 columns):\n",
      "Team1          4008 non-null int32\n",
      "SPI1           4008 non-null int32\n",
      "proj_score1    4008 non-null int32\n",
      "SPI2           4008 non-null int32\n",
      "proj_score2    4008 non-null int32\n",
      "Team2          4008 non-null int32\n",
      "league_id      4008 non-null int32\n",
      "dtypes: int32(7)\n",
      "memory usage: 109.7 KB\n"
     ]
    }
   ],
   "source": [
    "test[features].info()"
   ]
  },
  {
   "cell_type": "markdown",
   "metadata": {},
   "source": [
    "## Cross Validation"
   ]
  },
  {
   "cell_type": "code",
   "execution_count": 19,
   "metadata": {},
   "outputs": [],
   "source": [
    "def metric(a, b):\n",
    "    return log_loss(a, b)\n",
    "\n",
    "def cross_valid(model, train, features, target, cv=3):\n",
    "    results = cross_val_predict(model, train[features], train[target], method=\"predict_proba\", cv=cv)\n",
    "    return metric(train[target], results)"
   ]
  },
  {
   "cell_type": "code",
   "execution_count": 20,
   "metadata": {},
   "outputs": [
    {
     "name": "stdout",
     "output_type": "stream",
     "text": [
      "LGBMClassifier 0.03199033031773276\n",
      "XGBClassifier 0.031056475965232595\n",
      "GradientBoostingClassifier 0.044421901030699935\n",
      "RandomForestClassifier 0.06634931313868325\n",
      "AdaBoostClassifier 0.5633901302602827\n",
      "LogisticRegression 0.038222845541017375\n",
      "KNeighborsClassifier 0.45571312329322666\n",
      "DecisionTreeClassifier 0.5336503137733084\n",
      "ExtraTreeClassifier 2.4594318808682876\n",
      "MLPClassifier 0.12819326031581643\n",
      "GaussianNB 0.1353264368609654\n",
      "BaggingClassifier 0.06397249266750554\n"
     ]
    }
   ],
   "source": [
    "models = [\n",
    "    LGBMClassifier(), \n",
    "    XGBClassifier(verbosity = 0),\n",
    "    GradientBoostingClassifier(),\n",
    "    RandomForestClassifier(),\n",
    "    AdaBoostClassifier(),\n",
    "    LogisticRegression(),   \n",
    "    KNeighborsClassifier(),\n",
    "    DecisionTreeClassifier(),\n",
    "    ExtraTreeClassifier(),\n",
    "    MLPClassifier(),\n",
    "    GaussianNB(),\n",
    "    BaggingClassifier()    \n",
    "         ]\n",
    "for i in models:\n",
    "    model = i\n",
    "    error = cross_valid(model,train,features,target,cv=10)\n",
    "    print(str(model).split(\"(\")[0], error)"
   ]
  },
  {
   "cell_type": "code",
   "execution_count": 21,
   "metadata": {},
   "outputs": [],
   "source": [
    "trainX, validX, trainY, validY = train_test_split(train[features],\n",
    "                                                  train[target],\n",
    "                                                  test_size=0.2,\n",
    "                                                  stratify=train[target],\n",
    "                                                  random_state=13\n",
    "                                                 )"
   ]
  },
  {
   "cell_type": "markdown",
   "metadata": {},
   "source": [
    "## Prediction on test dataset"
   ]
  },
  {
   "cell_type": "code",
   "execution_count": 22,
   "metadata": {},
   "outputs": [
    {
     "name": "stdout",
     "output_type": "stream",
     "text": [
      "Validation Score:  0.0783717048659871\n"
     ]
    }
   ],
   "source": [
    "model = XGBClassifier(learning_rate=0.01,\n",
    "                       n_estimators=5000,\n",
    "                       max_depth=8,\n",
    "                       min_child_weight=0,\n",
    "                       gamma=0.6,\n",
    "                       subsample=0.7,\n",
    "                       colsample_bytree=0.7,\n",
    "                       objective='reg:linear',\n",
    "                       nthread=-1,\n",
    "                       scale_pos_weight=1,\n",
    "                       seed=27,\n",
    "                       reg_alpha=0.00006,\n",
    "                       random_state=42\n",
    "                     )\n",
    "model.fit(trainX[features], trainY)\n",
    "y_pred_valid = model.predict_proba(validX[features])\n",
    "print(\"Validation Score: \",metric(validY, y_pred_valid))\n"
   ]
  },
  {
   "cell_type": "code",
   "execution_count": 23,
   "metadata": {},
   "outputs": [
    {
     "data": {
      "text/html": [
       "<div>\n",
       "<style scoped>\n",
       "    .dataframe tbody tr th:only-of-type {\n",
       "        vertical-align: middle;\n",
       "    }\n",
       "\n",
       "    .dataframe tbody tr th {\n",
       "        vertical-align: top;\n",
       "    }\n",
       "\n",
       "    .dataframe thead th {\n",
       "        text-align: right;\n",
       "    }\n",
       "</style>\n",
       "<table border=\"1\" class=\"dataframe\">\n",
       "  <thead>\n",
       "    <tr style=\"text-align: right;\">\n",
       "      <th></th>\n",
       "      <th>Outcome</th>\n",
       "    </tr>\n",
       "  </thead>\n",
       "  <tbody>\n",
       "    <tr>\n",
       "      <th>0</th>\n",
       "      <td>1.004207</td>\n",
       "    </tr>\n",
       "    <tr>\n",
       "      <th>1</th>\n",
       "      <td>0.950320</td>\n",
       "    </tr>\n",
       "    <tr>\n",
       "      <th>2</th>\n",
       "      <td>0.138330</td>\n",
       "    </tr>\n",
       "    <tr>\n",
       "      <th>3</th>\n",
       "      <td>1.004141</td>\n",
       "    </tr>\n",
       "    <tr>\n",
       "      <th>4</th>\n",
       "      <td>0.077395</td>\n",
       "    </tr>\n",
       "  </tbody>\n",
       "</table>\n",
       "</div>"
      ],
      "text/plain": [
       "    Outcome\n",
       "0  1.004207\n",
       "1  0.950320\n",
       "2  0.138330\n",
       "3  1.004141\n",
       "4  0.077395"
      ]
     },
     "execution_count": 23,
     "metadata": {},
     "output_type": "execute_result"
    }
   ],
   "source": [
    "y_pred_test = model.predict_proba(test[features])[:, 1]\n",
    "result = pd.DataFrame({\"Outcome\":y_pred_test})\n",
    "#result.to_csv(\"submission_xgb.csv\", index=False)\n",
    "result.head()"
   ]
  },
  {
   "cell_type": "code",
   "execution_count": 28,
   "metadata": {},
   "outputs": [],
   "source": [
    "result.to_csv(\"submission_xgb.csv\", index=False)\n"
   ]
  }
 ],
 "metadata": {
  "kernelspec": {
   "display_name": "Python 3",
   "language": "python",
   "name": "python3"
  },
  "language_info": {
   "codemirror_mode": {
    "name": "ipython",
    "version": 3
   },
   "file_extension": ".py",
   "mimetype": "text/x-python",
   "name": "python",
   "nbconvert_exporter": "python",
   "pygments_lexer": "ipython3",
   "version": "3.8.5"
  }
 },
 "nbformat": 4,
 "nbformat_minor": 4
}
